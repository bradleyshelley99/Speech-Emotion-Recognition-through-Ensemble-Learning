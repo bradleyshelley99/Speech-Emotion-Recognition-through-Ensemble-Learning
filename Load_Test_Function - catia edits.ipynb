{
 "cells": [
  {
   "cell_type": "code",
   "execution_count": 4,
   "metadata": {},
   "outputs": [],
   "source": [
    "import numpy as np"
   ]
  },
  {
   "cell_type": "code",
   "execution_count": 5,
   "metadata": {},
   "outputs": [],
   "source": [
    "#Import test function\n",
    "from test import test"
   ]
  },
  {
   "cell_type": "code",
   "execution_count": 6,
   "metadata": {},
   "outputs": [
    {
     "data": {
      "text/plain": [
       "((2400, 100000), (2400,), (640, 100000), (640,), (340, 100000), (340,))"
      ]
     },
     "execution_count": 6,
     "metadata": {},
     "output_type": "execute_result"
    }
   ],
   "source": [
    "# load data\n",
    "# you need to change this path with your own directory\n",
    "path = 'C:/Users/catia/Dropbox (UFL)/Teaching/2020 Fall/EEE 4773 Fundamentals of Machine Learning/GitHub/Final-Project/Code and Reports/Dataset/'\n",
    "\n",
    "X_train = np.load(path+'data_training.npy',allow_pickle=True).astype('float')\n",
    "y_train = np.load(path+'labels_training.npy')\n",
    "\n",
    "X_test = np.load(path+'data_test.npy',allow_pickle=True).astype('float')\n",
    "y_test = np.load(path+'labels_test.npy')\n",
    "\n",
    "X_hardtest = np.load(path+'data_hardtest.npy',allow_pickle=True).astype('float')\n",
    "y_hardtest = np.load(path+'labels_hardtest.npy')\n",
    "\n",
    "X_train.shape, y_train.shape, X_test.shape, y_test.shape, X_hardtest.shape, y_hardtest.shape"
   ]
  },
  {
   "cell_type": "code",
   "execution_count": 7,
   "metadata": {},
   "outputs": [
    {
     "name": "stderr",
     "output_type": "stream",
     "text": [
      "C:\\Users\\catia\\anaconda3\\lib\\site-packages\\sklearn\\base.py:318: UserWarning: Trying to unpickle estimator KNeighborsClassifier from version 0.23.2 when using version 0.22.1. This might lead to breaking code or invalid results. Use at your own risk.\n",
      "  UserWarning)\n",
      "C:\\Users\\catia\\anaconda3\\lib\\site-packages\\sklearn\\base.py:318: UserWarning: Trying to unpickle estimator PCA from version 0.23.2 when using version 0.22.1. This might lead to breaking code or invalid results. Use at your own risk.\n",
      "  UserWarning)\n",
      "C:\\Users\\catia\\anaconda3\\lib\\site-packages\\sklearn\\base.py:318: UserWarning: Trying to unpickle estimator LabelBinarizer from version 0.23.2 when using version 0.22.1. This might lead to breaking code or invalid results. Use at your own risk.\n",
      "  UserWarning)\n",
      "C:\\Users\\catia\\anaconda3\\lib\\site-packages\\sklearn\\base.py:318: UserWarning: Trying to unpickle estimator MLPClassifier from version 0.23.2 when using version 0.22.1. This might lead to breaking code or invalid results. Use at your own risk.\n",
      "  UserWarning)\n"
     ]
    },
    {
     "name": "stdout",
     "output_type": "stream",
     "text": [
      "Accuracy score is:  1.0\n",
      "Confusion Matrix: \n",
      " [[300   0   0   0   0   0   0   0]\n",
      " [  0 300   0   0   0   0   0   0]\n",
      " [  0   0 300   0   0   0   0   0]\n",
      " [  0   0   0 300   0   0   0   0]\n",
      " [  0   0   0   0 300   0   0   0]\n",
      " [  0   0   0   0   0 300   0   0]\n",
      " [  0   0   0   0   0   0 300   0]\n",
      " [  0   0   0   0   0   0   0 300]]\n",
      "Predicted labels: \n",
      " [2. 3. 2. ... 1. 5. 7.]\n"
     ]
    }
   ],
   "source": [
    "score, cm ,final_pred, _ = test(X_train, y_train)\n",
    "\n",
    "print('Accuracy score is: ', score)\n",
    "print('Confusion Matrix: \\n', cm)\n",
    "print('Predicted labels: \\n', final_pred)"
   ]
  },
  {
   "cell_type": "code",
   "execution_count": 8,
   "metadata": {},
   "outputs": [
    {
     "name": "stderr",
     "output_type": "stream",
     "text": [
      "C:\\Users\\catia\\anaconda3\\lib\\site-packages\\sklearn\\base.py:318: UserWarning: Trying to unpickle estimator KNeighborsClassifier from version 0.23.2 when using version 0.22.1. This might lead to breaking code or invalid results. Use at your own risk.\n",
      "  UserWarning)\n",
      "C:\\Users\\catia\\anaconda3\\lib\\site-packages\\sklearn\\base.py:318: UserWarning: Trying to unpickle estimator PCA from version 0.23.2 when using version 0.22.1. This might lead to breaking code or invalid results. Use at your own risk.\n",
      "  UserWarning)\n",
      "C:\\Users\\catia\\anaconda3\\lib\\site-packages\\sklearn\\base.py:318: UserWarning: Trying to unpickle estimator LabelBinarizer from version 0.23.2 when using version 0.22.1. This might lead to breaking code or invalid results. Use at your own risk.\n",
      "  UserWarning)\n",
      "C:\\Users\\catia\\anaconda3\\lib\\site-packages\\sklearn\\base.py:318: UserWarning: Trying to unpickle estimator MLPClassifier from version 0.23.2 when using version 0.22.1. This might lead to breaking code or invalid results. Use at your own risk.\n",
      "  UserWarning)\n"
     ]
    },
    {
     "name": "stdout",
     "output_type": "stream",
     "text": [
      "Accuracy score is:  0.8515625\n",
      "Confusion Matrix: \n",
      " [[67 11  0  2  0  0  1  1]\n",
      " [ 8 64  0  2  0  0  0  1]\n",
      " [ 1  1 69  3  1  3  0  3]\n",
      " [ 1  3  0 72  3  1  1  0]\n",
      " [ 0  1  5  0 70  0  7 12]\n",
      " [ 0  0  1  0  1 74  1  2]\n",
      " [ 3  0  1  1  0  0 70  2]\n",
      " [ 0  0  4  0  5  2  0 59]]\n",
      "Predicted labels: \n",
      " [7. 3. 6. 4. 7. 1. 1. 5. 7. 6. 4. 6. 3. 7. 7. 7. 4. 5. 8. 2. 2. 2. 4. 4.\n",
      " 8. 3. 4. 1. 3. 7. 8. 1. 7. 2. 2. 6. 6. 6. 4. 1. 7. 8. 4. 5. 1. 8. 7. 7.\n",
      " 8. 3. 2. 4. 7. 5. 4. 3. 4. 4. 6. 1. 6. 7. 1. 8. 4. 3. 5. 1. 4. 1. 6. 3.\n",
      " 2. 5. 6. 6. 1. 3. 6. 2. 1. 5. 2. 5. 2. 2. 8. 4. 8. 5. 8. 2. 8. 5. 3. 8.\n",
      " 4. 5. 4. 2. 4. 3. 4. 3. 5. 1. 1. 1. 6. 3. 6. 5. 3. 3. 2. 5. 4. 4. 6. 4.\n",
      " 7. 1. 1. 1. 8. 4. 8. 1. 2. 2. 2. 7. 8. 6. 5. 6. 4. 3. 1. 6. 7. 2. 5. 8.\n",
      " 1. 2. 6. 8. 1. 7. 6. 1. 5. 7. 6. 7. 2. 4. 3. 3. 4. 4. 3. 8. 1. 2. 3. 2.\n",
      " 2. 6. 6. 8. 8. 3. 5. 3. 5. 8. 1. 7. 7. 3. 7. 6. 7. 8. 5. 1. 5. 5. 6. 5.\n",
      " 4. 8. 4. 7. 2. 6. 3. 7. 6. 2. 7. 3. 6. 1. 4. 4. 7. 2. 3. 3. 4. 8. 3. 5.\n",
      " 7. 6. 1. 5. 6. 3. 7. 2. 4. 5. 7. 2. 4. 8. 1. 5. 4. 6. 2. 1. 8. 5. 5. 3.\n",
      " 4. 4. 6. 8. 1. 3. 8. 4. 3. 1. 4. 5. 5. 4. 5. 6. 3. 3. 4. 6. 1. 1. 5. 3.\n",
      " 2. 6. 3. 2. 6. 3. 3. 6. 5. 5. 1. 1. 1. 3. 3. 2. 1. 4. 4. 4. 3. 6. 4. 5.\n",
      " 6. 3. 7. 4. 7. 4. 6. 7. 8. 5. 2. 1. 7. 4. 1. 5. 4. 7. 5. 5. 2. 3. 1. 2.\n",
      " 3. 6. 8. 8. 6. 2. 7. 1. 6. 1. 7. 6. 6. 4. 8. 8. 3. 5. 1. 1. 2. 6. 3. 2.\n",
      " 4. 5. 7. 5. 7. 5. 3. 1. 5. 2. 1. 2. 8. 8. 6. 2. 5. 2. 5. 4. 1. 7. 5. 8.\n",
      " 7. 2. 7. 5. 3. 4. 8. 2. 4. 4. 1. 8. 5. 3. 1. 4. 1. 4. 5. 4. 6. 3. 2. 5.\n",
      " 3. 7. 5. 7. 3. 3. 5. 6. 8. 4. 2. 1. 5. 3. 2. 5. 8. 8. 1. 6. 5. 1. 8. 3.\n",
      " 1. 1. 5. 1. 6. 7. 2. 8. 7. 5. 2. 7. 2. 6. 3. 3. 1. 5. 7. 6. 5. 7. 4. 5.\n",
      " 7. 4. 4. 4. 7. 5. 2. 8. 4. 5. 1. 4. 5. 2. 2. 1. 4. 3. 4. 3. 2. 8. 4. 3.\n",
      " 4. 6. 1. 2. 6. 4. 7. 8. 2. 1. 3. 6. 2. 3. 5. 8. 5. 1. 8. 5. 7. 4. 8. 8.\n",
      " 5. 8. 8. 7. 7. 6. 5. 3. 7. 1. 3. 6. 8. 4. 5. 8. 7. 2. 7. 8. 7. 6. 2. 3.\n",
      " 2. 1. 5. 6. 7. 5. 5. 5. 5. 2. 2. 6. 6. 4. 2. 8. 1. 1. 3. 4. 6. 4. 1. 1.\n",
      " 7. 1. 7. 5. 3. 5. 6. 1. 8. 3. 5. 5. 1. 2. 8. 2. 1. 8. 2. 4. 8. 6. 7. 5.\n",
      " 1. 5. 1. 6. 7. 6. 7. 1. 6. 7. 7. 6. 2. 8. 3. 1. 4. 5. 3. 3. 5. 8. 3. 2.\n",
      " 8. 6. 6. 8. 4. 7. 3. 6. 2. 6. 3. 5. 2. 3. 2. 1. 7. 4. 7. 5. 4. 7. 5. 4.\n",
      " 7. 1. 6. 3. 8. 8. 5. 7. 8. 3. 8. 6. 8. 8. 2. 1. 7. 7. 3. 5. 3. 5. 7. 5.\n",
      " 6. 5. 2. 6. 2. 7. 5. 5. 3. 2. 3. 6. 5. 1. 6. 1.]\n"
     ]
    }
   ],
   "source": [
    "score, cm ,final_pred, _ = test(X_test, y_test)\n",
    "\n",
    "print('Accuracy score is: ', score)\n",
    "print('Confusion Matrix: \\n', cm)\n",
    "print('Predicted labels: \\n', final_pred)"
   ]
  },
  {
   "cell_type": "code",
   "execution_count": 9,
   "metadata": {},
   "outputs": [
    {
     "name": "stderr",
     "output_type": "stream",
     "text": [
      "C:\\Users\\catia\\anaconda3\\lib\\site-packages\\sklearn\\base.py:318: UserWarning: Trying to unpickle estimator KNeighborsClassifier from version 0.23.2 when using version 0.22.1. This might lead to breaking code or invalid results. Use at your own risk.\n",
      "  UserWarning)\n",
      "C:\\Users\\catia\\anaconda3\\lib\\site-packages\\sklearn\\base.py:318: UserWarning: Trying to unpickle estimator PCA from version 0.23.2 when using version 0.22.1. This might lead to breaking code or invalid results. Use at your own risk.\n",
      "  UserWarning)\n",
      "C:\\Users\\catia\\anaconda3\\lib\\site-packages\\sklearn\\base.py:318: UserWarning: Trying to unpickle estimator LabelBinarizer from version 0.23.2 when using version 0.22.1. This might lead to breaking code or invalid results. Use at your own risk.\n",
      "  UserWarning)\n",
      "C:\\Users\\catia\\anaconda3\\lib\\site-packages\\sklearn\\base.py:318: UserWarning: Trying to unpickle estimator MLPClassifier from version 0.23.2 when using version 0.22.1. This might lead to breaking code or invalid results. Use at your own risk.\n",
      "  UserWarning)\n"
     ]
    },
    {
     "name": "stdout",
     "output_type": "stream",
     "text": [
      "Accuracy score is:  0.7441176470588236\n",
      "Confusion Matrix: \n",
      " [[ 0  0  0  0  0  0  0  0  0]\n",
      " [ 1 65 11  0  0  0  1  0  3]\n",
      " [ 2  7 61  0  0  0  1  0  1]\n",
      " [ 2  1  0  0  0  0  2  0  2]\n",
      " [ 4  2  2  0  0  0  1  0  2]\n",
      " [ 8  0  1  0  0  0  2  0 13]\n",
      " [ 2  0  1  0  0  0 70  0  1]\n",
      " [ 1  4  4  0  0  0  1  0  1]\n",
      " [ 0  1  0  0  0  0  2  0 57]]\n",
      "Predicted labels: \n",
      " [5. 7. 2. 6. 2. 1. 8. 7. 6. 6. 1. 1. 6. 2. 2. 6. 2. 8. 2. 1. 5. 8. 2. 1.\n",
      " 8. 1. 8. 1. 6. 8. 8. 6. 6. 8. 7. 1. 1. 6. 8. 6. 8. 1. 6. 3. 2. 1. 1. 1.\n",
      " 3. 6. 8. 6. 7. 1. 7. 2. 6. 1. 6. 1. 2. 8. 1. 2. 2. 5. 4. 6. 2. 8. 2. 1.\n",
      " 2. 4. 4. 1. 8. 1. 1. 8. 2. 2. 1. 2. 8. 6. 6. 5. 6. 8. 6. 2. 8. 1. 8. 8.\n",
      " 1. 2. 1. 2. 1. 6. 2. 6. 1. 2. 6. 2. 8. 1. 1. 2. 6. 8. 1. 2. 2. 5. 5. 2.\n",
      " 8. 1. 1. 6. 8. 1. 8. 8. 8. 8. 1. 1. 7. 8. 8. 8. 2. 6. 6. 8. 6. 1. 2. 1.\n",
      " 6. 2. 6. 2. 1. 1. 1. 8. 4. 6. 3. 2. 2. 3. 1. 4. 4. 8. 8. 1. 1. 8. 5. 6.\n",
      " 2. 2. 4. 6. 5. 6. 1. 8. 2. 6. 1. 5. 1. 6. 1. 2. 8. 2. 6. 2. 1. 8. 2. 1.\n",
      " 3. 1. 2. 8. 8. 2. 8. 2. 1. 3. 8. 6. 6. 8. 6. 2. 2. 1. 2. 5. 2. 2. 1. 7.\n",
      " 8. 6. 6. 8. 1. 6. 4. 1. 2. 2. 1. 6. 2. 5. 5. 6. 1. 8. 6. 1. 4. 1. 4. 7.\n",
      " 5. 1. 6. 8. 5. 1. 2. 6. 1. 1. 5. 1. 6. 8. 2. 2. 8. 4. 1. 1. 6. 6. 6. 6.\n",
      " 2. 8. 1. 6. 2. 6. 5. 7. 6. 3. 5. 1. 6. 8. 1. 6. 5. 5. 1. 5. 6. 6. 1. 8.\n",
      " 7. 8. 1. 6. 2. 1. 2. 6. 8. 8. 2. 5. 6. 2. 2. 1. 6. 2. 8. 6. 1. 7. 2. 1.\n",
      " 1. 6. 1. 8. 8. 2. 6. 1. 6. 5. 2. 6. 6. 2. 5. 2. 6. 2. 6. 2. 2. 1. 6. 6.\n",
      " 5. 8. 2. 1.]\n"
     ]
    }
   ],
   "source": [
    "score, cm ,final_pred, _ = test(X_hardtest, y_hardtest)\n",
    "\n",
    "print('Accuracy score is: ', score)\n",
    "print('Confusion Matrix: \\n', cm)\n",
    "print('Predicted labels: \\n', final_pred)"
   ]
  },
  {
   "cell_type": "code",
   "execution_count": null,
   "metadata": {},
   "outputs": [],
   "source": []
  }
 ],
 "metadata": {
  "kernelspec": {
   "display_name": "Python 3",
   "language": "python",
   "name": "python3"
  },
  "language_info": {
   "codemirror_mode": {
    "name": "ipython",
    "version": 3
   },
   "file_extension": ".py",
   "mimetype": "text/x-python",
   "name": "python",
   "nbconvert_exporter": "python",
   "pygments_lexer": "ipython3",
   "version": "3.7.7"
  },
  "latex_envs": {
   "LaTeX_envs_menu_present": true,
   "autoclose": false,
   "autocomplete": true,
   "bibliofile": "biblio.bib",
   "cite_by": "apalike",
   "current_citInitial": 1,
   "eqLabelWithNumbers": true,
   "eqNumInitial": 1,
   "hotkeys": {
    "equation": "Ctrl-E",
    "itemize": "Ctrl-I"
   },
   "labels_anchors": false,
   "latex_user_defs": false,
   "report_style_numbering": false,
   "user_envs_cfg": false
  },
  "varInspector": {
   "cols": {
    "lenName": 16,
    "lenType": 16,
    "lenVar": 40
   },
   "kernels_config": {
    "python": {
     "delete_cmd_postfix": "",
     "delete_cmd_prefix": "del ",
     "library": "var_list.py",
     "varRefreshCmd": "print(var_dic_list())"
    },
    "r": {
     "delete_cmd_postfix": ") ",
     "delete_cmd_prefix": "rm(",
     "library": "var_list.r",
     "varRefreshCmd": "cat(var_dic_list()) "
    }
   },
   "types_to_exclude": [
    "module",
    "function",
    "builtin_function_or_method",
    "instance",
    "_Feature"
   ],
   "window_display": false
  }
 },
 "nbformat": 4,
 "nbformat_minor": 4
}
